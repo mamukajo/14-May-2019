{
 "cells": [
  {
   "cell_type": "markdown",
   "metadata": {},
   "source": [
    "# Problem Solving and Programming\n",
    "## Day-15\n",
    "## Date-14 May 2019"
   ]
  },
  {
   "cell_type": "markdown",
   "metadata": {},
   "source": [
    "### Day outcomes\n",
    "    *objective 1\n",
    "    *objective 2\n",
    "    *objective 3"
   ]
  },
  {
   "cell_type": "markdown",
   "metadata": {},
   "source": [
    "### Problem 1:\n",
    "\n",
    "#### Problem Statement\n",
    "For a given integer N. Find the least positive integer X made up of only 9's and 0's, such that, X is a multiple of N.\n",
    "\n",
    "X is made up of one or more occurrences of 9 and zero or more occurrences of 0.\n",
    "\n",
    "#### Constraints\n",
    "\n",
    "### Test cases\n",
    "    *Multiple( 5 )  -> 90\n",
    "    *Multiple ( 7 )  -> 9009\n",
    "    *Multiple( 1 )  -> 9\n",
    "\n",
    "    "
   ]
  },
  {
   "cell_type": "code",
   "execution_count": 28,
   "metadata": {},
   "outputs": [
    {
     "name": "stdout",
     "output_type": "stream",
     "text": [
      "enter max limit10\n",
      "emter a number1\n",
      "9\n"
     ]
    }
   ],
   "source": [
    "from queue import Queue\n",
    "max=int(input(\"enter max limit\"))\n",
    "li= []\n",
    "n=int(input(\"emter a number\"))\n",
    "def zeroesAndNines():\n",
    "    global li\n",
    "    q = Queue()\n",
    "    q.put(\"9\")\n",
    "    for count in range(max, -1, -1):\n",
    "        s1 = q.queue[0]\n",
    "        q.get()\n",
    "        li.append(s1)\n",
    "        s2 = s1\n",
    "        s1 += \"0\"\n",
    "        q.put(s1)\n",
    "        s2 += \"9\"\n",
    "        q.put(s2)\n",
    "def minimumMultiple(n):\n",
    "    global li\n",
    "    for i in range(len(li)):\n",
    "        if (int(li[i]) % n == 0):\n",
    "            return li[i]\n",
    "zeroesAndNines()\n",
    "print(minimumMultiple(n))"
   ]
  },
  {
   "cell_type": "code",
   "execution_count": null,
   "metadata": {},
   "outputs": [],
   "source": []
  },
  {
   "cell_type": "markdown",
   "metadata": {},
   "source": [
    "### Problem 2:\n",
    "\n",
    "#### Problem Statement\n",
    " Define a function to find the average of all the outer elements of an N x M matrix.\n",
    "\n",
    "#### Constraints\n",
    "\n",
    "### Test cases\n",
    "    *averageOuterMatrix([[1, 2, 3], [4, 5, 6], [7, 8, 9], [10, 11, 12]] -> 4.5"
   ]
  },
  {
   "cell_type": "code",
   "execution_count": 67,
   "metadata": {},
   "outputs": [
    {
     "name": "stdout",
     "output_type": "stream",
     "text": [
      "7\n",
      "4\n",
      "1\n"
     ]
    }
   ],
   "source": [
    "def rowPrint(a,r,nc):\n",
    "    for i in range(0,nc):\n",
    "        print(a[r][i],end=' ')\n",
    "\n",
    "def columnPrint(a,c,nr):\n",
    "    for i in range(0,nr):\n",
    "        print(a[i][c])\n",
    "        \n",
    "def reverseRowPrint(a,r,nc):\n",
    "    for i in range(nc-1,-1,-1):\n",
    "        print(a[r][i],end=' ')\n",
    "\n",
    "def reverseColumnPrint(a, c,nr):\n",
    "    for i in range(nr-1, -1, -1):\n",
    "        print(a[i][c])\n",
    "m1=[1,2,3],[4,5,6],[7,8,9]\n",
    "#rowPrint(m1,0,3)\n",
    "#columnPrint(m1,0,3)\n",
    "#reverseRowPrint(m1,2,3)\n",
    "reverseColumnPrint(m1,0,3)"
   ]
  },
  {
   "cell_type": "code",
   "execution_count": null,
   "metadata": {},
   "outputs": [],
   "source": []
  },
  {
   "cell_type": "code",
   "execution_count": null,
   "metadata": {},
   "outputs": [],
   "source": []
  },
  {
   "cell_type": "code",
   "execution_count": 69,
   "metadata": {},
   "outputs": [
    {
     "name": "stdout",
     "output_type": "stream",
     "text": [
      "1 2 3 6 9 12 11 10 7 4 "
     ]
    }
   ],
   "source": [
    "def rowPrint(a,r,rs,nc):\n",
    "    for i in range(rs,nc):\n",
    "        print(a[r][i],end=' ')\n",
    "\n",
    "def columnPrint(a,c,cs,nr):\n",
    "    for i in range(cs,nr):\n",
    "        print(a[i][c],end=' ')\n",
    "        \n",
    "def reverseRowPrint(a,r,rs,nc):\n",
    "    for i in range(nc-rs-1,-1,-1):\n",
    "        print(a[r][i],end=' ')\n",
    "\n",
    "def reverseColumnPrint(a,c,cs,cst,nr):\n",
    "    for i in range(nr-1-cs,cst,-1):\n",
    "        print(a[i][c],end=' ')\n",
    "        \n",
    "def outerMatrix(m1,nr,nc):\n",
    "    rowPrint(m1,0,0,nc)\n",
    "    columnPrint(m1,nc-1,1,nr)\n",
    "    reverseRowPrint(m1,nr-1,nc-2,nc)\n",
    "    reverseColumnPrint(m1,0,nr-3,0,nr)\n",
    "m1=[1,2,3],[4,5,6],[7,8,9],[10,11,12]\n",
    "#rowPrint(m1,0,3)\n",
    "#columnPrint(m1,0,3)\n",
    "#reverseRowPrint(m1,2,3)\n",
    "#reverseColumnPrint(m1,0,1,3)\n",
    "#outerMatrix(m1,4,3)"
   ]
  },
  {
   "cell_type": "code",
   "execution_count": null,
   "metadata": {},
   "outputs": [],
   "source": []
  }
 ],
 "metadata": {
  "kernelspec": {
   "display_name": "Python 3",
   "language": "python",
   "name": "python3"
  },
  "language_info": {
   "codemirror_mode": {
    "name": "ipython",
    "version": 3
   },
   "file_extension": ".py",
   "mimetype": "text/x-python",
   "name": "python",
   "nbconvert_exporter": "python",
   "pygments_lexer": "ipython3",
   "version": "3.7.3"
  }
 },
 "nbformat": 4,
 "nbformat_minor": 2
}
